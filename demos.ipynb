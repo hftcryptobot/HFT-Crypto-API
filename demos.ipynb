{
 "cells": [
  {
   "cell_type": "code",
   "execution_count": 9,
   "metadata": {},
   "outputs": [],
   "source": [
    "\n",
    "import requests, json, pytest, time"
   ]
  },
  {
   "cell_type": "code",
   "execution_count": 6,
   "metadata": {},
   "outputs": [
    {
     "name": "stdout",
     "output_type": "stream",
     "text": [
      "1000\n"
     ]
    }
   ],
   "source": [
    "import requests, json, pytest, time\n",
    "from datetime import datetime\n",
    "url = \"https://api-cloud.bitmart.com/spot/v1/symbols/kline\"\n",
    "payload = {\n",
    "    \"symbol\": \"BMX_ETH\",\n",
    "    \"from\": int(time.time())-10000,\n",
    "    \"to\": int(time.time()),\n",
    "    \"step\": \"15\",\n",
    "}\n",
    "server_response = requests.request(\"GET\", url=url, params=payload)\n",
    "print(json.loads(server_response.content)['code'])"
   ]
  },
  {
   "cell_type": "code",
   "execution_count": 1,
   "metadata": {},
   "outputs": [
    {
     "name": "stdout",
     "output_type": "stream",
     "text": [
      "[{'currency': 'USDT', 'available_balance': '6.46', 'frozen_balance': '1.9', 'unrealized': '0', 'equity': '8.36', 'position_deposit': '0'}, {'currency': 'BTC', 'available_balance': '0', 'frozen_balance': '0', 'unrealized': '0', 'equity': '0', 'position_deposit': '0'}, {'currency': 'ETH', 'available_balance': '0', 'frozen_balance': '0', 'unrealized': '0', 'equity': '0', 'position_deposit': '0'}]\n"
     ]
    }
   ],
   "source": [
    "from hftcryptoapi.bitmart import Bitmart\n",
    "api_key = \"11bcfe6d2d3a5f0016efc5108a1c64e678201b27\"\n",
    "secret_key = \"953bb4129c221485d71c89cea38a0497e8ca8b36b18e0fdddbcdc45a7c27f35b\"\n",
    "memo = \"artemtest\"\n",
    "\n",
    "clientBitmart = Bitmart.BitmartClient(api_key, secret_key, memo)\n",
    "bm_wallet_futures2 = clientBitmart.get_acount_balance(wallet_type=Bitmart.Market.FUTURES)\n",
    "#bm_order = clientBitmart.submit_order(market=Bitmart.Market.SPOT, symbol=\"ETH_USDT\", side=\"sell\", price=\"14000\", size=\"10\")"
   ]
  },
  {
   "cell_type": "code",
   "execution_count": 2,
   "metadata": {},
   "outputs": [
    {
     "name": "stdout",
     "output_type": "stream",
     "text": [
      "USDT Market.FUTURES 6.46\n",
      "BTC Market.FUTURES 0\n",
      "ETH Market.FUTURES 0\n"
     ]
    }
   ],
   "source": [
    "for item in bm_wallet_futures2.currency:\n",
    "    print(item.ticker, item.wallet_type, item.available)"
   ]
  },
  {
   "cell_type": "code",
   "execution_count": 3,
   "metadata": {},
   "outputs": [
    {
     "name": "stdout",
     "output_type": "stream",
     "text": [
      "ETHUSDT\n"
     ]
    }
   ],
   "source": [
    "print(bm_order.symbol)"
   ]
  },
  {
   "cell_type": "code",
   "execution_count": 2,
   "metadata": {},
   "outputs": [
    {
     "ename": "AttributeError",
     "evalue": "'mappingproxy' object has no attribute '__dict__'",
     "output_type": "error",
     "traceback": [
      "\u001b[1;31m---------------------------------------------------------------------------\u001b[0m",
      "\u001b[1;31mAttributeError\u001b[0m                            Traceback (most recent call last)",
      "\u001b[1;32mc:\\Users\\rusla\\Documents\\GitHub\\pybitmart\\demos.ipynb Cell 5\u001b[0m in \u001b[0;36m<cell line: 2>\u001b[1;34m()\u001b[0m\n\u001b[0;32m      <a href='vscode-notebook-cell:/c%3A/Users/rusla/Documents/GitHub/pybitmart/demos.ipynb#X11sZmlsZQ%3D%3D?line=0'>1</a>\u001b[0m \u001b[39mimport\u001b[39;00m \u001b[39mjson\u001b[39;00m\n\u001b[1;32m----> <a href='vscode-notebook-cell:/c%3A/Users/rusla/Documents/GitHub/pybitmart/demos.ipynb#X11sZmlsZQ%3D%3D?line=1'>2</a>\u001b[0m \u001b[39mprint\u001b[39m(bm_order\u001b[39m.\u001b[39;49mto_json())\n",
      "File \u001b[1;32mc:\\Users\\rusla\\Documents\\GitHub\\pybitmart\\pybitmart\\bitmart_objects.py:50\u001b[0m, in \u001b[0;36mBitmartOrder.to_json\u001b[1;34m(self)\u001b[0m\n\u001b[0;32m     49\u001b[0m \u001b[39mdef\u001b[39;00m \u001b[39mto_json\u001b[39m(\u001b[39mself\u001b[39m):\n\u001b[1;32m---> 50\u001b[0m     \u001b[39mreturn\u001b[39;00m json\u001b[39m.\u001b[39;49mdumps(\u001b[39mself\u001b[39;49m, default\u001b[39m=\u001b[39;49m\u001b[39mlambda\u001b[39;49;00m o: o\u001b[39m.\u001b[39;49m\u001b[39m__dict__\u001b[39;49m, sort_keys\u001b[39m=\u001b[39;49m\u001b[39mTrue\u001b[39;49;00m, indent\u001b[39m=\u001b[39;49m\u001b[39m4\u001b[39;49m)\n",
      "File \u001b[1;32mc:\\Program Files\\Python310\\lib\\json\\__init__.py:238\u001b[0m, in \u001b[0;36mdumps\u001b[1;34m(obj, skipkeys, ensure_ascii, check_circular, allow_nan, cls, indent, separators, default, sort_keys, **kw)\u001b[0m\n\u001b[0;32m    232\u001b[0m \u001b[39mif\u001b[39;00m \u001b[39mcls\u001b[39m \u001b[39mis\u001b[39;00m \u001b[39mNone\u001b[39;00m:\n\u001b[0;32m    233\u001b[0m     \u001b[39mcls\u001b[39m \u001b[39m=\u001b[39m JSONEncoder\n\u001b[0;32m    234\u001b[0m \u001b[39mreturn\u001b[39;00m \u001b[39mcls\u001b[39;49m(\n\u001b[0;32m    235\u001b[0m     skipkeys\u001b[39m=\u001b[39;49mskipkeys, ensure_ascii\u001b[39m=\u001b[39;49mensure_ascii,\n\u001b[0;32m    236\u001b[0m     check_circular\u001b[39m=\u001b[39;49mcheck_circular, allow_nan\u001b[39m=\u001b[39;49mallow_nan, indent\u001b[39m=\u001b[39;49mindent,\n\u001b[0;32m    237\u001b[0m     separators\u001b[39m=\u001b[39;49mseparators, default\u001b[39m=\u001b[39;49mdefault, sort_keys\u001b[39m=\u001b[39;49msort_keys,\n\u001b[1;32m--> 238\u001b[0m     \u001b[39m*\u001b[39;49m\u001b[39m*\u001b[39;49mkw)\u001b[39m.\u001b[39;49mencode(obj)\n",
      "File \u001b[1;32mc:\\Program Files\\Python310\\lib\\json\\encoder.py:201\u001b[0m, in \u001b[0;36mJSONEncoder.encode\u001b[1;34m(self, o)\u001b[0m\n\u001b[0;32m    199\u001b[0m chunks \u001b[39m=\u001b[39m \u001b[39mself\u001b[39m\u001b[39m.\u001b[39miterencode(o, _one_shot\u001b[39m=\u001b[39m\u001b[39mTrue\u001b[39;00m)\n\u001b[0;32m    200\u001b[0m \u001b[39mif\u001b[39;00m \u001b[39mnot\u001b[39;00m \u001b[39misinstance\u001b[39m(chunks, (\u001b[39mlist\u001b[39m, \u001b[39mtuple\u001b[39m)):\n\u001b[1;32m--> 201\u001b[0m     chunks \u001b[39m=\u001b[39m \u001b[39mlist\u001b[39;49m(chunks)\n\u001b[0;32m    202\u001b[0m \u001b[39mreturn\u001b[39;00m \u001b[39m'\u001b[39m\u001b[39m'\u001b[39m\u001b[39m.\u001b[39mjoin(chunks)\n",
      "File \u001b[1;32mc:\\Program Files\\Python310\\lib\\json\\encoder.py:439\u001b[0m, in \u001b[0;36m_make_iterencode.<locals>._iterencode\u001b[1;34m(o, _current_indent_level)\u001b[0m\n\u001b[0;32m    437\u001b[0m     markers[markerid] \u001b[39m=\u001b[39m o\n\u001b[0;32m    438\u001b[0m o \u001b[39m=\u001b[39m _default(o)\n\u001b[1;32m--> 439\u001b[0m \u001b[39myield from\u001b[39;00m _iterencode(o, _current_indent_level)\n\u001b[0;32m    440\u001b[0m \u001b[39mif\u001b[39;00m markers \u001b[39mis\u001b[39;00m \u001b[39mnot\u001b[39;00m \u001b[39mNone\u001b[39;00m:\n\u001b[0;32m    441\u001b[0m     \u001b[39mdel\u001b[39;00m markers[markerid]\n",
      "File \u001b[1;32mc:\\Program Files\\Python310\\lib\\json\\encoder.py:431\u001b[0m, in \u001b[0;36m_make_iterencode.<locals>._iterencode\u001b[1;34m(o, _current_indent_level)\u001b[0m\n\u001b[0;32m    429\u001b[0m     \u001b[39myield from\u001b[39;00m _iterencode_list(o, _current_indent_level)\n\u001b[0;32m    430\u001b[0m \u001b[39melif\u001b[39;00m \u001b[39misinstance\u001b[39m(o, \u001b[39mdict\u001b[39m):\n\u001b[1;32m--> 431\u001b[0m     \u001b[39myield from\u001b[39;00m _iterencode_dict(o, _current_indent_level)\n\u001b[0;32m    432\u001b[0m \u001b[39melse\u001b[39;00m:\n\u001b[0;32m    433\u001b[0m     \u001b[39mif\u001b[39;00m markers \u001b[39mis\u001b[39;00m \u001b[39mnot\u001b[39;00m \u001b[39mNone\u001b[39;00m:\n",
      "File \u001b[1;32mc:\\Program Files\\Python310\\lib\\json\\encoder.py:405\u001b[0m, in \u001b[0;36m_make_iterencode.<locals>._iterencode_dict\u001b[1;34m(dct, _current_indent_level)\u001b[0m\n\u001b[0;32m    403\u001b[0m         \u001b[39melse\u001b[39;00m:\n\u001b[0;32m    404\u001b[0m             chunks \u001b[39m=\u001b[39m _iterencode(value, _current_indent_level)\n\u001b[1;32m--> 405\u001b[0m         \u001b[39myield from\u001b[39;00m chunks\n\u001b[0;32m    406\u001b[0m \u001b[39mif\u001b[39;00m newline_indent \u001b[39mis\u001b[39;00m \u001b[39mnot\u001b[39;00m \u001b[39mNone\u001b[39;00m:\n\u001b[0;32m    407\u001b[0m     _current_indent_level \u001b[39m-\u001b[39m\u001b[39m=\u001b[39m \u001b[39m1\u001b[39m\n",
      "File \u001b[1;32mc:\\Program Files\\Python310\\lib\\json\\encoder.py:439\u001b[0m, in \u001b[0;36m_make_iterencode.<locals>._iterencode\u001b[1;34m(o, _current_indent_level)\u001b[0m\n\u001b[0;32m    437\u001b[0m     markers[markerid] \u001b[39m=\u001b[39m o\n\u001b[0;32m    438\u001b[0m o \u001b[39m=\u001b[39m _default(o)\n\u001b[1;32m--> 439\u001b[0m \u001b[39myield from\u001b[39;00m _iterencode(o, _current_indent_level)\n\u001b[0;32m    440\u001b[0m \u001b[39mif\u001b[39;00m markers \u001b[39mis\u001b[39;00m \u001b[39mnot\u001b[39;00m \u001b[39mNone\u001b[39;00m:\n\u001b[0;32m    441\u001b[0m     \u001b[39mdel\u001b[39;00m markers[markerid]\n",
      "File \u001b[1;32mc:\\Program Files\\Python310\\lib\\json\\encoder.py:431\u001b[0m, in \u001b[0;36m_make_iterencode.<locals>._iterencode\u001b[1;34m(o, _current_indent_level)\u001b[0m\n\u001b[0;32m    429\u001b[0m     \u001b[39myield from\u001b[39;00m _iterencode_list(o, _current_indent_level)\n\u001b[0;32m    430\u001b[0m \u001b[39melif\u001b[39;00m \u001b[39misinstance\u001b[39m(o, \u001b[39mdict\u001b[39m):\n\u001b[1;32m--> 431\u001b[0m     \u001b[39myield from\u001b[39;00m _iterencode_dict(o, _current_indent_level)\n\u001b[0;32m    432\u001b[0m \u001b[39melse\u001b[39;00m:\n\u001b[0;32m    433\u001b[0m     \u001b[39mif\u001b[39;00m markers \u001b[39mis\u001b[39;00m \u001b[39mnot\u001b[39;00m \u001b[39mNone\u001b[39;00m:\n",
      "File \u001b[1;32mc:\\Program Files\\Python310\\lib\\json\\encoder.py:405\u001b[0m, in \u001b[0;36m_make_iterencode.<locals>._iterencode_dict\u001b[1;34m(dct, _current_indent_level)\u001b[0m\n\u001b[0;32m    403\u001b[0m         \u001b[39melse\u001b[39;00m:\n\u001b[0;32m    404\u001b[0m             chunks \u001b[39m=\u001b[39m _iterencode(value, _current_indent_level)\n\u001b[1;32m--> 405\u001b[0m         \u001b[39myield from\u001b[39;00m chunks\n\u001b[0;32m    406\u001b[0m \u001b[39mif\u001b[39;00m newline_indent \u001b[39mis\u001b[39;00m \u001b[39mnot\u001b[39;00m \u001b[39mNone\u001b[39;00m:\n\u001b[0;32m    407\u001b[0m     _current_indent_level \u001b[39m-\u001b[39m\u001b[39m=\u001b[39m \u001b[39m1\u001b[39m\n",
      "File \u001b[1;32mc:\\Program Files\\Python310\\lib\\json\\encoder.py:439\u001b[0m, in \u001b[0;36m_make_iterencode.<locals>._iterencode\u001b[1;34m(o, _current_indent_level)\u001b[0m\n\u001b[0;32m    437\u001b[0m     markers[markerid] \u001b[39m=\u001b[39m o\n\u001b[0;32m    438\u001b[0m o \u001b[39m=\u001b[39m _default(o)\n\u001b[1;32m--> 439\u001b[0m \u001b[39myield from\u001b[39;00m _iterencode(o, _current_indent_level)\n\u001b[0;32m    440\u001b[0m \u001b[39mif\u001b[39;00m markers \u001b[39mis\u001b[39;00m \u001b[39mnot\u001b[39;00m \u001b[39mNone\u001b[39;00m:\n\u001b[0;32m    441\u001b[0m     \u001b[39mdel\u001b[39;00m markers[markerid]\n",
      "File \u001b[1;32mc:\\Program Files\\Python310\\lib\\json\\encoder.py:438\u001b[0m, in \u001b[0;36m_make_iterencode.<locals>._iterencode\u001b[1;34m(o, _current_indent_level)\u001b[0m\n\u001b[0;32m    436\u001b[0m         \u001b[39mraise\u001b[39;00m \u001b[39mValueError\u001b[39;00m(\u001b[39m\"\u001b[39m\u001b[39mCircular reference detected\u001b[39m\u001b[39m\"\u001b[39m)\n\u001b[0;32m    437\u001b[0m     markers[markerid] \u001b[39m=\u001b[39m o\n\u001b[1;32m--> 438\u001b[0m o \u001b[39m=\u001b[39m _default(o)\n\u001b[0;32m    439\u001b[0m \u001b[39myield from\u001b[39;00m _iterencode(o, _current_indent_level)\n\u001b[0;32m    440\u001b[0m \u001b[39mif\u001b[39;00m markers \u001b[39mis\u001b[39;00m \u001b[39mnot\u001b[39;00m \u001b[39mNone\u001b[39;00m:\n",
      "File \u001b[1;32mc:\\Users\\rusla\\Documents\\GitHub\\pybitmart\\pybitmart\\bitmart_objects.py:50\u001b[0m, in \u001b[0;36mBitmartOrder.to_json.<locals>.<lambda>\u001b[1;34m(o)\u001b[0m\n\u001b[0;32m     49\u001b[0m \u001b[39mdef\u001b[39;00m \u001b[39mto_json\u001b[39m(\u001b[39mself\u001b[39m):\n\u001b[1;32m---> 50\u001b[0m     \u001b[39mreturn\u001b[39;00m json\u001b[39m.\u001b[39mdumps(\u001b[39mself\u001b[39m, default\u001b[39m=\u001b[39m\u001b[39mlambda\u001b[39;00m o: o\u001b[39m.\u001b[39;49m\u001b[39m__dict__\u001b[39;49m, sort_keys\u001b[39m=\u001b[39m\u001b[39mTrue\u001b[39;00m, indent\u001b[39m=\u001b[39m\u001b[39m4\u001b[39m)\n",
      "\u001b[1;31mAttributeError\u001b[0m: 'mappingproxy' object has no attribute '__dict__'"
     ]
    }
   ],
   "source": [
    "import json\n",
    "print(bm_order.to_json())"
   ]
  },
  {
   "cell_type": "code",
   "execution_count": 4,
   "metadata": {},
   "outputs": [
    {
     "ename": "APIException",
     "evalue": "APIException(http status=400): response={\"message\":\"Balance not enough\",\"code\":50020,\"trace\":\"e40eaba2875a4589aa59dd9d565f1364.62.16696772703637947\",\"data\":{}}",
     "output_type": "error",
     "traceback": [
      "\u001b[1;31m---------------------------------------------------------------------------\u001b[0m",
      "\u001b[1;31mAPIException\u001b[0m                              Traceback (most recent call last)",
      "\u001b[1;32mc:\\Users\\rusla\\Documents\\GitHub\\pybitmart\\demos.ipynb Cell 7\u001b[0m in \u001b[0;36m<cell line: 7>\u001b[1;34m()\u001b[0m\n\u001b[0;32m      <a href='vscode-notebook-cell:/c%3A/Users/rusla/Documents/GitHub/pybitmart/demos.ipynb#W4sZmlsZQ%3D%3D?line=3'>4</a>\u001b[0m memo \u001b[39m=\u001b[39m \u001b[39m\"\u001b[39m\u001b[39martemtest\u001b[39m\u001b[39m\"\u001b[39m\n\u001b[0;32m      <a href='vscode-notebook-cell:/c%3A/Users/rusla/Documents/GitHub/pybitmart/demos.ipynb#W4sZmlsZQ%3D%3D?line=5'>6</a>\u001b[0m clientBitmart \u001b[39m=\u001b[39m Bitmart\u001b[39m.\u001b[39mBitmartClient(api_key, secret_key, memo)\n\u001b[1;32m----> <a href='vscode-notebook-cell:/c%3A/Users/rusla/Documents/GitHub/pybitmart/demos.ipynb#W4sZmlsZQ%3D%3D?line=6'>7</a>\u001b[0m \u001b[39mprint\u001b[39m(clientBitmart\u001b[39m.\u001b[39;49mspot_submit_limit_order(symbol\u001b[39m=\u001b[39;49m \u001b[39m\"\u001b[39;49m\u001b[39mETH_USDT\u001b[39;49m\u001b[39m\"\u001b[39;49m, side\u001b[39m=\u001b[39;49m \u001b[39m\"\u001b[39;49m\u001b[39mbuy\u001b[39;49m\u001b[39m\"\u001b[39;49m, size\u001b[39m=\u001b[39;49m\u001b[39m0.10\u001b[39;49m, price\u001b[39m=\u001b[39;49m\u001b[39m70\u001b[39;49m, client_order_id\u001b[39m=\u001b[39;49m\u001b[39m'\u001b[39;49m\u001b[39m'\u001b[39;49m))\n",
      "File \u001b[1;32mc:\\Users\\rusla\\Documents\\GitHub\\pybitmart\\pybitmart\\Bitmart.py:94\u001b[0m, in \u001b[0;36mBitmartClient.spot_submit_limit_order\u001b[1;34m(self, symbol, side, size, price, client_order_id)\u001b[0m\n\u001b[0;32m     85\u001b[0m \u001b[39mdef\u001b[39;00m \u001b[39mspot_submit_limit_order\u001b[39m(\u001b[39mself\u001b[39m, symbol: \u001b[39mstr\u001b[39m, side: \u001b[39mstr\u001b[39m, size: \u001b[39mstr\u001b[39m, price: \u001b[39mstr\u001b[39m, client_order_id\u001b[39m=\u001b[39m\u001b[39m'\u001b[39m\u001b[39m'\u001b[39m):\n\u001b[0;32m     86\u001b[0m     param \u001b[39m=\u001b[39m {\n\u001b[0;32m     87\u001b[0m         \u001b[39m'\u001b[39m\u001b[39msymbol\u001b[39m\u001b[39m'\u001b[39m: symbol,\n\u001b[0;32m     88\u001b[0m         \u001b[39m'\u001b[39m\u001b[39mside\u001b[39m\u001b[39m'\u001b[39m: side,\n\u001b[1;32m   (...)\u001b[0m\n\u001b[0;32m     92\u001b[0m         \u001b[39m'\u001b[39m\u001b[39mprice\u001b[39m\u001b[39m'\u001b[39m: price\n\u001b[0;32m     93\u001b[0m     }\n\u001b[1;32m---> 94\u001b[0m     \u001b[39mreturn\u001b[39;00m \u001b[39mself\u001b[39;49m\u001b[39m.\u001b[39;49m_request_with_params(POST, SPOT_PLACE_ORDER, param, Auth\u001b[39m.\u001b[39;49mSIGNED)\n",
      "File \u001b[1;32mc:\\Users\\rusla\\Documents\\GitHub\\pybitmart\\pybitmart\\api_client.py:73\u001b[0m, in \u001b[0;36mPyClient._request_with_params\u001b[1;34m(self, method, request_path, params, auth)\u001b[0m\n\u001b[0;32m     72\u001b[0m \u001b[39mdef\u001b[39;00m \u001b[39m_request_with_params\u001b[39m(\u001b[39mself\u001b[39m, method, request_path, params, auth\u001b[39m=\u001b[39mc\u001b[39m.\u001b[39mAuth\u001b[39m.\u001b[39mNONE):\n\u001b[1;32m---> 73\u001b[0m     \u001b[39mreturn\u001b[39;00m \u001b[39mself\u001b[39;49m\u001b[39m.\u001b[39;49m_request(method, request_path, params, auth)\n",
      "File \u001b[1;32mc:\\Users\\rusla\\Documents\\GitHub\\pybitmart\\pybitmart\\bm_logging.py:20\u001b[0m, in \u001b[0;36mlog.<locals>.wrapper\u001b[1;34m(*args, **kwargs)\u001b[0m\n\u001b[0;32m     19\u001b[0m \u001b[39mdef\u001b[39;00m \u001b[39mwrapper\u001b[39m(\u001b[39m*\u001b[39margs, \u001b[39m*\u001b[39m\u001b[39m*\u001b[39mkwargs):\n\u001b[1;32m---> 20\u001b[0m     result \u001b[39m=\u001b[39m func(\u001b[39m*\u001b[39margs, \u001b[39m*\u001b[39m\u001b[39m*\u001b[39mkwargs)\n\u001b[0;32m     21\u001b[0m     \u001b[39mif\u001b[39;00m pyBitMartLog\u001b[39m.\u001b[39mis_debug():\n\u001b[0;32m     22\u001b[0m         \u001b[39mprint\u001b[39m(\u001b[39m'\u001b[39m\u001b[39mresponse\u001b[39m\u001b[39m'\u001b[39m)\n",
      "File \u001b[1;32mc:\\Users\\rusla\\Documents\\GitHub\\pybitmart\\pybitmart\\api_client.py:53\u001b[0m, in \u001b[0;36mPyClient._request\u001b[1;34m(self, method, request_path, params, auth)\u001b[0m\n\u001b[0;32m     51\u001b[0m \u001b[39m# exception handle\u001b[39;00m\n\u001b[0;32m     52\u001b[0m \u001b[39mif\u001b[39;00m \u001b[39mnot\u001b[39;00m \u001b[39mstr\u001b[39m(response\u001b[39m.\u001b[39mstatus_code) \u001b[39m==\u001b[39m \u001b[39m'\u001b[39m\u001b[39m200\u001b[39m\u001b[39m'\u001b[39m:\n\u001b[1;32m---> 53\u001b[0m     \u001b[39mraise\u001b[39;00m bitmart_exceptions\u001b[39m.\u001b[39mAPIException(response)\n\u001b[0;32m     54\u001b[0m \u001b[39mtry\u001b[39;00m:\n\u001b[0;32m     55\u001b[0m     res_header \u001b[39m=\u001b[39m response\u001b[39m.\u001b[39mheaders\n",
      "\u001b[1;31mAPIException\u001b[0m: APIException(http status=400): response={\"message\":\"Balance not enough\",\"code\":50020,\"trace\":\"e40eaba2875a4589aa59dd9d565f1364.62.16696772703637947\",\"data\":{}}"
     ]
    }
   ],
   "source": [
    "from pybitmart import Bitmart\n",
    "api_key = \"11bcfe6d2d3a5f0016efc5108a1c64e678201b27\"\n",
    "secret_key = \"953bb4129c221485d71c89cea38a0497e8ca8b36b18e0fdddbcdc45a7c27f35b\"\n",
    "memo = \"artemtest\"\n",
    "\n",
    "clientBitmart = Bitmart.BitmartClient(api_key, secret_key, memo)\n",
    "print(clientBitmart.spot_submit_limit_order(symbol= \"ETH_USDT\", side= \"buy\", size=0.10, price=70, client_order_id=''))"
   ]
  },
  {
   "cell_type": "code",
   "execution_count": 1,
   "metadata": {},
   "outputs": [
    {
     "name": "stdout",
     "output_type": "stream",
     "text": [
      "------------------------------------------\n",
      "response\n",
      "\tbody:123\n",
      "\tlimit:34\n",
      "b'{\"message\":\"OK\",\"code\":1000,\"trace\":\"5413101915634d99be9bd029281bb15b.66.16695771703039743\",\"data\":{\"symbols\":[\"SOLAR_USDT\",\"VINA_USDT\",\"QNT_USDT\",\"KOM_USDT\",\"GAMI_USDT\",\"DASH_BTC\",\"DGB_BTC\",\"MINIFOOTBALL_USDT\",\"CFXT_USDT\",\"TERA_USDT\",\"TWT_USDT\",\"FALCONS_USDT\",\"AMPLIFI_USDT\",\"RODEO_USDT\",\"HFT_USDT\",\"KATA_USDT\",\"MC_USDT\",\"FNF_USDT\",\"VET_USDT\",\"QUINT_USDT\",\"LYXE_USDT\",\"OPUL_USDT\",\"M87_USDT\",\"IUX_USDT\",\"AVAT_USDT\",\"GGG_USDT\",\"FET_USDT\",\"ARG_USDT\",\"UNI_USDT\",\"CWEB_USDT\",\"SOM_USDT\",\"ATR_USDT\",\"VTS_USDT\",\"WMT_USDT\",\"SG_BTC\",\"ROCKI_USDT\",\"GMT_USDT\",\"CSPR_USDT\",\"ALGO_BTC\",\"GMCOIN_USDT\",\"MERCE_USDT\",\"MMAI_USDT\",\"ALGOBLK_USDT\",\"QRDO_USDT\",\"QIE_USDT\",\"BSHEESHA_USDT\",\"GRT_USDT\",\"BFHT_USDT\",\"SHA_USDT\",\"PAF_USDT\",\"EGLD_USDT\",\"DAI_USDT\",\"LOKA_USDT\",\"KILLER_USDT\",\"CREO_USDT\",\"WLKN_USDT\",\"SKL_USDT\",\"NFC_USDT\",\"ERR_USDT\",\"DAI_USDC\",\"BYP_USDT\",\"ATOZ_USDT\",\"YCO_USDC\",\"QDT_USDT\",\"BRISE_USDT\",\"DIE_USDT\",\"MATIC_USDT\",\"BOBC_USDT\",\"MVEDA_USDT\",\"$HMT_USDT\",\"FTT_USDT\",\"ASSA_USDT\",\"MATIC_USDC\",\"BBT_USDT\",\"AXL_USDT\",\"PLEX_BTC\",\"AST_USDT\",\"BNB_USDT\",\"BDY_USDT\",\"USDP_USDT\",\"ALPINE_USDT\",\"LEZ_USDT\",\"BITBOY_USDT\",\"PKT_USDT\",\"YFI_USDT\",\"DASH_USDT\",\"FORT_USDT\",\"XSP_USDT\",\"CUN_ETH\",\"VISION_USDT\",\"SRX_USDT\",\"MRX_USDT\",\"WRK_USDT\",\"SLEEPEE_USDT\",\"XI_USDT\",\"TRX_ETH\",\"NEAR_USDT\",\"SOL_USDC\",\"CENX_USDT\",\"XLM_ETH\",\"LNR_USDT\",\"WEC_USDT\",\"THG_USDT\",\"ZRX_ETH\",\"NASSR_USDT\",\"GDE_USDT\",\"POLY_USDT\",\"KKT_USDT\",\"SOL_USDT\",\"AXS_USDT\",\"NFTY_USDT\",\"FTM_USDT\",\"FIO_USDT\",\"PIG_USDT\",\"LUFFY_USDT\",\"ELON_USDT\",\"SKL_ETH\",\"BSP_USDT\",\"ZNC_USDT\",\"HOTCROSS_USDT\",\"BANANA_USDT\",\"WAVES_USDT\",\"MBET_USDT\",\"SOS_USDT\",\"SHIBDOGE(1M)_USDT\",\"PEOPLE_USDT\",\"FOF_USDT\",\"HELLO_USDT\",\"RITE_USDT\",\"PROS_USDT\",\"ESHEESHA_USDT\",\"BZEN_USDT\",\"LTC_ETH\",\"ZPAY_USDT\",\"CEM_USDT\",\"OMNIA_USDT\",\"DFI_ETH\",\"FRZSS_USDT\",\"LINK_BTC\",\"PIAS_USDT\",\"FIRO_USDT\",\"AUDIO_USDT\",\"MGXG_USDT\",\"MANA_USDT\",\"KOSON_USDT\",\"DHLT_USDT\",\"OKB_USDT\",\"SLP_USDT\",\"LUNA_USDT\",\"LEX_USDT\",\"MGT_USDT\",\"AMA_USDT\",\"XETA_USDT\",\"RFUEL_USDT\",\"$PORT_USDT\",\"ADS_USDT\",\"MIR_USDT\",\"WAXL_USDT\",\"DAR_USDT\",\"KSM_USDT\",\"STORJ_USDT\",\"XEM_USDT\",\"VRGW_USDT\",\"QTUM_USDT\",\"WNK_USDT\",\"LOVELY_USDT\",\"AGV_USDT\",\"CVX_USDT\",\"LUNC_USDT\",\"GMM_USDT\",\"PSTAKE_USDT\",\"NEXO_USDT\",\"CEL_ETH\",\"BORING_USDT\",\"HPN_USDT\",\"CAUSE_USDT\",\"ETH_USDT\",\"XET_USDT\",\"ZENI_USDC\",\"STORE_USDT\",\"FLOKI_USDT\",\"XRUN_USDT\",\"SFM_USDT\",\"RAMA_USDT\",\"STRX_USDT\",\"CAST_USDT\",\"PEN_USDT\",\"ETH_USDC\",\"GLM_USDC\",\"BTCV_BTC\",\"DMTR_USDT\",\"VAB_USDT\",\"ENJ_USDT\",\"FORM_USDT\",\"VR_USDT\",\"AIMX_USDT\",\"EUM_USDT\",\"CMCX_USDT\",\"DOME_USDT\",\"HEC_TOR\",\"ANKR_USDT\",\"FIL_USDT\",\"TRAVA_USDT\",\"WCSOV_USDT\",\"RSS3_USDT\",\"XCH_USDT\",\"EXN_USDT\",\"ETH_DAI\",\"SHIB_USDC\",\"PLASTIK_USDT\",\"DEBT_USDT\",\"STRM_BTC\",\"BAKE_USDT\",\"SHIB_USDT\",\"CYOP_USDT\",\"CROGE_USDT\",\"ACM_USDT\",\"NFT_USDT\",\"MONS_USDT\",\"HOT_ETH\",\"LXF_USDT\",\"MCONTENT_USDT\",\"BETU_USDT\",\"TRAXX_USDT\",\"PLI_USDT\",\"ALGO_USDC\",\"XDC_USDT\",\"WTK_USDT\",\"LINK_ETH\",\"METO_USDT\",\"SOFI_USDT\",\"VET_ETH\",\"ZEN_USDT\",\"ALGO_USDT\",\"RBLS_USDT\",\"DORA_USDT\",\"ZFM_USDT\",\"OLE_USDT\",\"S2K_USDT\",\"GST_USDT\",\"MATIC_BTC\",\"CHESS_USDT\",\"GSX_USDT\",\"NYM_USDT\",\"HTO_USDC\",\"KAG_USDT\",\"LOOM_BTC\",\"STC_USDT\",\"DOT_USDT\",\"CRU_USDT\",\"BETH_ETH\",\"HIGH_USDT\",\"LKD_USDT\",\"GAMINGSHIBA_USDT\",\"WOO_USDT\",\"VTHO_USDT\",\"CHZ_USDT\",\"TAO_USDT\",\"PLT_USDT\",\"POSS_USDT\",\"ATOM_USDT\",\"XLM_USDC\",\"VOLR_USDT\",\"SYNR_USDT\",\"MEAN_USDT\",\"GODS_USDT\",\"GLD_USDT\",\"ZPTC_USDC\",\"SIDUS_USDT\",\"SAITAMA_USDT\",\"BONDLY_ETH\",\"XLM_USDT\",\"FXS_USDC\",\"SNX_USDT\",\"$CCX_USDT\",\"BNT_USDT\",\"RSR_USDT\",\"INJ_USDT\",\"KTO_USDT\",\"CRV_USDT\",\"XDEN_USDT\",\"LUXY_USDT\",\"FTB_USDT\",\"EFK_USDT\",\"GODE_USDT\",\"C98_USDT\",\"CRO_USDT\",\"AZY_USDT\",\"ASS_USDT\",\"ADP_USDT\",\"MSTR_USDT\",\"MFI_USDT\",\"DRAC_USDT\",\"MTH_USDT\",\"TIKTOKEN_USDT\",\"STACK_USDT\",\"WILD_USDT\",\"BLXM_USDT\",\"TRU_USDT\",\"RACA_USDT\",\"SWEAT_USDT\",\"NVIR_USDT\",\"IOST_BTC\",\"GULF_USDT\",\"XSPECTAR_USDT\",\"CUBE_USDT\",\"ZYTH_USDT\",\"MISA_USDT\",\"TUSD_USDC\",\"ARV_USDT\",\"RACA_USDC\",\"APE_USDT\",\"ZBC_USDT\",\"TUSD_USDT\",\"TFUEL_USDT\",\"APE_USDC\",\"API3_USDT\",\"LRC_USDT\",\"REP_BTC\",\"APL_USDT\",\"PARADOX_USDT\",\"SHX_USDT\",\"ALTRU_USDT\",\"TOR_USDT\",\"MINTME_USDT\",\"DBX_USDT\",\"SOLVE_USDT\",\"RBW_USDT\",\"FTRB_USDT\",\"SG_USDT\",\"LONIA_USDT\",\"MILO_USDT\",\"TOR_USDC\",\"PIF_USDT\",\"BMX_USDT\",\"DOGEDIGGER_USDT\",\"CUBIX_USDT\",\"PPI_USDT\",\"MINA_USDT\",\"ARTEQ_USDT\",\"GOAL_USDT\",\"BAR_USDT\",\"BNB_BTC\",\"BTC_USDT\",\"KIND_USDT\",\"LTC_USDT\",\"TRADE_USDT\",\"WWY_USDT\",\"NODL_USDT\",\"HBB_USDT\",\"POLS_USDT\",\"BTC_USDC\",\"LWC_USDT\",\"LTC_USDC\",\"HNTR_USDT\",\"QLINDO_USDT\",\"GWT_USDT\",\"NLC_USDT\",\"ELAN_USDT\",\"TANK_USDT\",\"MCRT_USDT\",\"SYP_USDT\",\"SLC_USDT\",\"LED_USDT\",\"AFIN_USDT\",\"OHO_USDT\",\"BTT_USDT\",\"SRLTY_USDT\",\"GMX_USDT\",\"MVRS_USDT\",\"XEN_USDT\",\"LOCUS_USDT\",\"GTC_USDT\",\"SXP_USDT\",\"CITY_USDT\",\"IMT_USDT\",\"BMX_USDC\",\"SRM_USDT\",\"ZEC_USDT\",\"JASMY_USDT\",\"DODI_USDT\",\"TRX_USDC\",\"MKR_BTC\",\"ACK_USDT\",\"SEON_USDT\",\"REBUS_USDT\",\"TRX_USDT\",\"STREETH_USDT\",\"LON_USDT\",\"LTC_BTC\",\"DOGE_USDT\",\"ISP_USDT\",\"QUACK_USDT\",\"$CC_USDT\",\"QUICK_USDT\",\"$SPAY_USDT\",\"LAZIO_USDT\",\"EUROC_USDC\",\"ZIL_BTC\",\"BICO_USDT\",\"EOS_BTC\",\"TAMA_USDT\",\"KLAY_USDT\",\"BCH_USDT\",\"BLOK_USDT\",\"DBD_USDT\",\"TON_USDT\",\"EUM_ETH\",\"MEVR_USDT\",\"TEDDYV2_USDT\",\"IMC_USDT\",\"BMX_ETH\",\"WAS_USDT\",\"LAT_USDT\",\"CELO_USDT\",\"ZRX_BTC\",\"TRI_USDT\",\"DIA_USDT\",\"HEC_USDT\",\"POR_USDT\",\"YEON_USDT\",\"EOS_USDT\",\"CRTS_USDT\",\"GNO_USDT\",\"LOOKS_USDT\",\"3ULL_USDT\",\"BRG_USDT\",\"FAKT_USDT\",\"MBX_USDT\",\"ATOM_BTC\",\"HMT_USDT\",\"PORTO_USDT\",\"LPT_USDT\",\"WBTC_USDT\",\"FINA_USDT\",\"SPELL_USDT\",\"XLN_USDT\",\"PLN_USDT\",\"ATH_USDT\",\"USDD_USDC\",\"CFI_USDT\",\"QTUM_BTC\",\"DOGE_USDC\",\"DCB_USDT\",\"MVP_USDT\",\"USDD_USDT\",\"PROTEO_USDT\",\"TLOS_USDT\",\"EOS_USDC\",\"IDNA_USDT\",\"CGO_USDT\",\"OVR_USDT\",\"BRN_USDT\",\"GPCX_USDT\",\"VSP_USDT\",\"DCASH_USDT\",\"GOC_ETH\",\"RBIF_USDT\",\"ZED_USDT\",\"BONDLY_USDT\",\"SNS_USDT\",\"LABS_USDT\",\"AAVE_USDT\",\"RADAR_USDT\",\"BONE_USDT\",\"GET_USDT\",\"LITH_USDT\",\"BGC_USDT\",\"DUET_USDT\",\"LDO_USDC\",\"JST_USDT\",\"AR_USDT\",\"BTCPAY_USDT\",\"VHC_USDT\",\"XRPAYNET_USDT\",\"EWT_USDT\",\"FOXV2_USDT\",\"STEP_USDT\",\"BLP_USDT\",\"COMP_USDT\",\"BAL_USDT\",\"$ITA_USDT\",\"IMX_USDT\",\"EFI_USDT\",\"HOD_USDT\",\"MESA_USDT\",\"WCSOV_ETH\",\"BABYDOGE_USDT\",\"ETC_USDT\",\"EARN_USDT\",\"APT_USDT\",\"WELT_USDT\",\"KISHU_USDT\",\"MANC_USDT\",\"CDOG_USDT\",\"MTVT_USDT\",\"XTZ_USDT\",\"FYN_USDT\",\"VET_BTC\",\"EAI_USDT\",\"KALI_USDT\",\"OMG_BTC\",\"VOLT_USDT\",\"ATHENAS_USDT\",\"BIT_USDT\",\"DINGO_USDT\",\"ONT_BTC\",\"CHEQ_USDT\",\"BP_USDT\",\"CASH_USDT\",\"AKITA_USDT\",\"GALA_USDC\",\"PERP_USDT\",\"CHECKR_USDT\",\"AURORA_USDT\",\"KUBE_USDT\",\"PRMX_USDT\",\"ANML_USDT\",\"GALA_USDT\",\"PC_USDT\",\"CHEDDA_USDT\",\"BERRY_USDT\",\"NIFT_USDT\",\"1INCH_USDT\",\"GAL_USDT\",\"RVLT_USDT\",\"OOE_USDT\",\"MASK_USDT\",\"PERI_USDT\",\"AVAX_USDT\",\"QOM_USDT\",\"KLV_USDT\",\"CCT_USDT\",\"DODO_USDT\",\"XLM_BTC\",\"CAKE_USDT\",\"$POR_USDT\",\"MATH_USDT\",\"LUNG_USDT\",\"SWU_USDT\",\"FACE_USDT\",\"PKR_USDT\",\"ZRX_USDT\",\"BAND_USDT\",\"VICA_USDT\",\"UPO_USDT\",\"LARIX_USDT\",\"LAYER_USDT\",\"G_USDT\",\"THETA_USDT\",\"$ARG_USDT\",\"GOMT_USDT\",\"NSUR_USDT\",\"DEP_USDT\",\"REDLC_USDT\",\"MULTI_USDT\",\"NULS_USDT\",\"NEPT_USDT\",\"ZGD_USDT\",\"P00LS_USDT\",\"INR_USDT\",\"AUDT_USDT\",\"ROCK_USDT\",\"STG_USDT\",\"BUSD_USDT\",\"XWG_USDT\",\"REN_USDT\",\"DG_USDT\",\"KRU_USDT\",\"MOVEZ_USDT\",\"NEO_ETH\",\"BUSD_USDC\",\"FEN_USDT\",\"FLOW_USDT\",\"RARI_USDT\",\"DYDX_USDT\",\"ATLAS_USDT\",\"DOGECOIN_USDT\",\"TRX_BTC\",\"HT_USDT\",\"LYO_USDT\",\"BAT_USDT\",\"LTNM_USDT\",\"USDC_USDT\",\"ICP_USDT\",\"MEX_USDT\",\"YGG_USDT\",\"HI_USDT\",\"PLANETS_USDT\",\"SINGH_USDT\",\"ANC_USDT\",\"Yinbi_USDT\",\"ONLYFANS_USDT\",\"FND_USDT\",\"OM_USDT\",\"EQ_USDT\",\"BEPRO_USDT\",\"NEO_USDT\",\"BTC_DAI\",\"CIRUS_USDT\",\"XRD_USDT\",\"PUMLX_USDT\",\"MHUNT_USDT\",\"UMA_USDT\",\"ENS_USDT\",\"VXL_USDT\",\"MTW_USDT\",\"TBC_USDT\",\"VEMP_USDT\",\"LITX_USDT\",\"PKN_USDT\",\"FITFI_USDT\",\"RCG_USDT\",\"TRAC_BTC\",\"WRX_USDT\",\"CDTC_USDT\",\"WQT_USDT\",\"EUM_BTC\",\"VLTY_USDT\",\"RAY_USDT\",\"BABY_USDT\",\"RTT_USDT\",\"ADA_USDC\",\"WE_USDT\",\"LEASH_USDT\",\"DVDX_USDT\",\"NAKA_USDT\",\"COC_USDT\",\"RED_USDT\",\"STRM_USDT\",\"CFX_USDT\",\"ETHF_USDT\",\"GVR_USDT\",\"PLCU_USDT\",\"MLX_USDT\",\"ACA_USDT\",\"NTIC_USDT\",\"DES_USDT\",\"HOGE_USDT\",\"LBT_USDT\",\"GMEX_USDT\",\"EUL_USDT\",\"EMPIRE_USDT\",\"ACH_USDT\",\"PTX_USDT\",\"ELVN_USDT\",\"$DFI_USDT\",\"REFLEX_USDT\",\"STA_USDT\",\"INDI_USDT\",\"OCEAN_USDT\",\"BSV_USDT\",\"CELR_USDT\",\"SAND_USDT\",\"ILV_USDT\",\"G1X_USDT\",\"FIMI_USDT\",\"ADA_USDT\",\"METIS_USDT\",\"FEAR_USDT\",\"YOOSHI_USDT\",\"H2O_USDT\",\"SKEY_USDT\",\"FRONT_USDT\",\"NEOM_USDT\",\"TOKAMAK_USDT\",\"SANTOS_USDT\",\"RTC_USDT\",\"BTNT_USDT\",\"YCO_BTC\",\"SAND_USDC\",\"ICE_USDT\",\"HOT_USDT\",\"BMX_BTC\",\"ATLAS_USDC\",\"ETHW_USDT\",\"ALICE_USDT\",\"FREE_USDT\",\"XCAD_USDT\",\"LOOP_USDT\",\"DC_USDT\",\"AKN_USDT\",\"QI_USDT\",\"ASX_USDT\",\"FWC_USDT\",\"OP_USDT\",\"GM_USDT\",\"OP_USDC\",\"BCH_BTC\",\"BTH_USDT\",\"STARL_USDT\",\"HBAR_USDT\",\"VINU_USDT\",\"CC_USDT\",\"LINK_USDT\",\"TLM_USDT\",\"RARE_USDT\",\"ARX_USDT\",\"UTG_USDT\",\"BLUESPARROW_USDT\",\"SUSHI_USDT\",\"PSG_USDT\",\"PLEX_USDT\",\"ETH_BTC\",\"HYPER_USDT\",\"MRHB_USDT\",\"WIN_USDT\"]}}'\n"
     ]
    }
   ],
   "source": [
    "from pybitmart import Bitmart\n",
    "api_key = \"11bcfe6d2d3a5f0016efc5108a1c64e678201b27\"\n",
    "secret_key = \"953bb4129c221485d71c89cea38a0497e8ca8b36b18e0fdddbcdc45a7c27f35b\"\n",
    "memo = \"artemtest\"\n",
    "\n",
    "clientBitmart = Bitmart.BitmartClient(api_key, secret_key, memo)\n",
    "print(clientBitmart.get_list_of_trading_pairs())"
   ]
  },
  {
   "cell_type": "code",
   "execution_count": 1,
   "metadata": {},
   "outputs": [
    {
     "ename": "AttributeError",
     "evalue": "'NoneType' object has no attribute 'symbol'",
     "output_type": "error",
     "traceback": [
      "\u001b[1;31m---------------------------------------------------------------------------\u001b[0m",
      "\u001b[1;31mAttributeError\u001b[0m                            Traceback (most recent call last)",
      "\u001b[1;32mc:\\Users\\rusla\\Documents\\GitHub\\pybitmart\\demos.ipynb Cell 9\u001b[0m in \u001b[0;36m<cell line: 8>\u001b[1;34m()\u001b[0m\n\u001b[0;32m      <a href='vscode-notebook-cell:/c%3A/Users/rusla/Documents/GitHub/pybitmart/demos.ipynb#X11sZmlsZQ%3D%3D?line=7'>8</a>\u001b[0m \u001b[39mwhile\u001b[39;00m \u001b[39mTrue\u001b[39;00m:\n\u001b[0;32m      <a href='vscode-notebook-cell:/c%3A/Users/rusla/Documents/GitHub/pybitmart/demos.ipynb#X11sZmlsZQ%3D%3D?line=8'>9</a>\u001b[0m     obj_ws \u001b[39m=\u001b[39m clientBitmart\u001b[39m.\u001b[39mget_websocket_data(connection\u001b[39m=\u001b[39mBitmart\u001b[39m.\u001b[39mBitmartWebSocket\u001b[39m.\u001b[39mPUBLIC, operation\u001b[39m=\u001b[39mBitmart\u001b[39m.\u001b[39mBitmartSocketOperation\u001b[39m.\u001b[39mSUBSCRIBE, tickers\u001b[39m=\u001b[39m\u001b[39m\"\u001b[39m\u001b[39mBTC_USDT\u001b[39m\u001b[39m\"\u001b[39m)\n\u001b[1;32m---> <a href='vscode-notebook-cell:/c%3A/Users/rusla/Documents/GitHub/pybitmart/demos.ipynb#X11sZmlsZQ%3D%3D?line=9'>10</a>\u001b[0m     \u001b[39mprint\u001b[39m(obj_ws\u001b[39m.\u001b[39;49msymbol)\n",
      "\u001b[1;31mAttributeError\u001b[0m: 'NoneType' object has no attribute 'symbol'"
     ]
    }
   ],
   "source": [
    "from hftcryptoapi.bitmart import Bitmart\n",
    "import time\n",
    "api_key = \"11bcfe6d2d3a5f0016efc5108a1c64e678201b27\"\n",
    "secret_key = \"953bb4129c221485d71c89cea38a0497e8ca8b36b18e0fdddbcdc45a7c27f35b\"\n",
    "memo = \"artemtest\"\n",
    "\n",
    "clientBitmart = Bitmart.BitmartClient(api_key, secret_key, memo)\n",
    "while True:\n",
    "    obj_ws = clientBitmart.get_websocket_data(connection=Bitmart.BitmartWebSocket.PUBLIC, operation=Bitmart.BitmartSocketOperation.SUBSCRIBE, tickers=\"BTC_USDT\")\n",
    "    print(obj_ws.symbol)"
   ]
  },
  {
   "cell_type": "code",
   "execution_count": 2,
   "metadata": {},
   "outputs": [
    {
     "ename": "AttributeError",
     "evalue": "'NoneType' object has no attribute 'symbol'",
     "output_type": "error",
     "traceback": [
      "\u001b[1;31m---------------------------------------------------------------------------\u001b[0m",
      "\u001b[1;31mAttributeError\u001b[0m                            Traceback (most recent call last)",
      "\u001b[1;32mc:\\Users\\rusla\\Documents\\GitHub\\pybitmart\\demos.ipynb Cell 10\u001b[0m in \u001b[0;36m<cell line: 1>\u001b[1;34m()\u001b[0m\n\u001b[1;32m----> <a href='vscode-notebook-cell:/c%3A/Users/rusla/Documents/GitHub/pybitmart/demos.ipynb#X15sZmlsZQ%3D%3D?line=0'>1</a>\u001b[0m \u001b[39mprint\u001b[39m(obj_ws\u001b[39m.\u001b[39;49msymbol)\n",
      "\u001b[1;31mAttributeError\u001b[0m: 'NoneType' object has no attribute 'symbol'"
     ]
    }
   ],
   "source": [
    "print(obj_ws.symbol)"
   ]
  },
  {
   "cell_type": "code",
   "execution_count": 4,
   "metadata": {},
   "outputs": [
    {
     "name": "stdout",
     "output_type": "stream",
     "text": [
      "{'symbol': 'BTCUSDT', 'side': 1, 'type': 'limit', 'leverage': '5', 'open_type': 'isolated', 'size': 6, 'price': '1551'}\n",
      "------------------------------------------\n",
      "[ POST ] https://api-cloud.bitmart.com/contract/private/submit-order\n",
      "request\n",
      "\theaders: {'Content-Type': 'application/json', 'User-Agent': '0.1', 'X-BM-KEY': '11bcfe6d2d3a5f0016efc5108a1c64e678201b27', 'X-BM-SIGN': 'b4cfef9c35f5e3282d94f372e06ca1e8f6df7339eb240fb31cc779b69063df09', 'X-BM-TIMESTAMP': '1669573500580'}\n",
      "\tbody: {\"symbol\": \"BTCUSDT\", \"side\": 1, \"type\": \"limit\", \"leverage\": \"5\", \"open_type\": \"isolated\", \"size\": 6, \"price\": \"1551\"}\n",
      "response\n",
      "\tbody:{'code': 1000, 'message': 'Ok', 'data': {'order_id': 221136530185727}, 'trace': '4743649d-a4d3-495d-b000-0e4a71a15699'}\n",
      "\tlimit:{'Remaining': '1', 'Limit': '60', 'Reset': '5'}\n",
      "({'code': 1000, 'message': 'Ok', 'data': {'order_id': 221136530185727}, 'trace': '4743649d-a4d3-495d-b000-0e4a71a15699'}, {'Remaining': '1', 'Limit': '60', 'Reset': '5'})\n"
     ]
    }
   ],
   "source": [
    "from pybitmart import Bitmart\n",
    "import time\n",
    "api_key = \"11bcfe6d2d3a5f0016efc5108a1c64e678201b27\"\n",
    "secret_key = \"953bb4129c221485d71c89cea38a0497e8ca8b36b18e0fdddbcdc45a7c27f35b\"\n",
    "memo = \"artemtest\"\n",
    "\n",
    "clientBitmart = Bitmart.BitmartClient(api_key, secret_key, memo)\n",
    "print(clientBitmart.futures_submit_order(symbol=\"BTCUSDT\", side=1, leverage=\"5\", open_type=\"isolated\", price=\"1551\", size=6, type=\"limit\"))"
   ]
  },
  {
   "cell_type": "code",
   "execution_count": 3,
   "metadata": {},
   "outputs": [
    {
     "name": "stdout",
     "output_type": "stream",
     "text": [
      "1669832856\n",
      "2022-11-30 19:26:26\n"
     ]
    }
   ],
   "source": [
    "import time, datetime\n",
    "unix_time = int(time.time())\n",
    "print(unix_time) # Unix time (Epoch time)\n",
    "print(datetime.datetime.fromtimestamp(1669832786)) # Datetime"
   ]
  },
  {
   "cell_type": "code",
   "execution_count": 3,
   "metadata": {},
   "outputs": [
    {
     "name": "stdout",
     "output_type": "stream",
     "text": [
      "{\"action\":\"subscribe\",\"group\":\"futures/klineBin1m:BTC_USDT\",\"success\":false,\"request\":{\"action\":\"subscribe\",\"args\":[\"futures/klineBin1m:BTC_USDT\"]},\"error\":\"group [futures/klineBin1m:BTC_USDT] not exist\"}\n",
      "\n",
      "{\"action\":\"subscribe\",\"group\":\"futures/klineBin1m:BTC_USDT\",\"success\":false,\"request\":{\"action\":\"subscribe\",\"args\":[\"futures/klineBin1m:BTC_USDT\"]},\"error\":\"group [futures/klineBin1m:BTC_USDT] not exist\"}\n",
      "\n",
      "{\"action\":\"subscribe\",\"group\":\"futures/klineBin1m:BTC_USDT\",\"success\":false,\"request\":{\"action\":\"subscribe\",\"args\":[\"futures/klineBin1m:BTC_USDT\"]},\"error\":\"group [futures/klineBin1m:BTC_USDT] not exist\"}\n",
      "\n",
      "{\"action\":\"subscribe\",\"group\":\"futures/klineBin1m:BTC_USDT\",\"success\":false,\"request\":{\"action\":\"subscribe\",\"args\":[\"futures/klineBin1m:BTC_USDT\"]},\"error\":\"group [futures/klineBin1m:BTC_USDT] not exist\"}\n",
      "\n",
      "{\"action\":\"subscribe\",\"group\":\"futures/klineBin1m:BTC_USDT\",\"success\":false,\"request\":{\"action\":\"subscribe\",\"args\":[\"futures/klineBin1m:BTC_USDT\"]},\"error\":\"group [futures/klineBin1m:BTC_USDT] not exist\"}\n",
      "\n",
      "{\"action\":\"subscribe\",\"group\":\"futures/klineBin1m:BTC_USDT\",\"success\":false,\"request\":{\"action\":\"subscribe\",\"args\":[\"futures/klineBin1m:BTC_USDT\"]},\"error\":\"group [futures/klineBin1m:BTC_USDT] not exist\"}\n",
      "\n",
      "{\"action\":\"subscribe\",\"group\":\"futures/klineBin1m:BTC_USDT\",\"success\":false,\"request\":{\"action\":\"subscribe\",\"args\":[\"futures/klineBin1m:BTC_USDT\"]},\"error\":\"group [futures/klineBin1m:BTC_USDT] not exist\"}\n",
      "\n",
      "{\"action\":\"subscribe\",\"group\":\"futures/klineBin1m:BTC_USDT\",\"success\":false,\"request\":{\"action\":\"subscribe\",\"args\":[\"futures/klineBin1m:BTC_USDT\"]},\"error\":\"group [futures/klineBin1m:BTC_USDT] not exist\"}\n",
      "\n",
      "{\"action\":\"subscribe\",\"group\":\"futures/klineBin1m:BTC_USDT\",\"success\":false,\"request\":{\"action\":\"subscribe\",\"args\":[\"futures/klineBin1m:BTC_USDT\"]},\"error\":\"group [futures/klineBin1m:BTC_USDT] not exist\"}\n",
      "\n",
      "{\"action\":\"subscribe\",\"group\":\"futures/klineBin1m:BTC_USDT\",\"success\":false,\"request\":{\"action\":\"subscribe\",\"args\":[\"futures/klineBin1m:BTC_USDT\"]},\"error\":\"group [futures/klineBin1m:BTC_USDT] not exist\"}\n",
      "\n",
      "{\"action\":\"subscribe\",\"group\":\"futures/klineBin1m:BTC_USDT\",\"success\":false,\"request\":{\"action\":\"subscribe\",\"args\":[\"futures/klineBin1m:BTC_USDT\"]},\"error\":\"group [futures/klineBin1m:BTC_USDT] not exist\"}\n",
      "\n",
      "{\"action\":\"subscribe\",\"group\":\"futures/klineBin1m:BTC_USDT\",\"success\":false,\"request\":{\"action\":\"subscribe\",\"args\":[\"futures/klineBin1m:BTC_USDT\"]},\"error\":\"group [futures/klineBin1m:BTC_USDT] not exist\"}\n",
      "\n",
      "{\"action\":\"subscribe\",\"group\":\"futures/klineBin1m:BTC_USDT\",\"success\":false,\"request\":{\"action\":\"subscribe\",\"args\":[\"futures/klineBin1m:BTC_USDT\"]},\"error\":\"group [futures/klineBin1m:BTC_USDT] not exist\"}\n",
      "\n",
      "{\"action\":\"subscribe\",\"group\":\"futures/klineBin1m:BTC_USDT\",\"success\":false,\"request\":{\"action\":\"subscribe\",\"args\":[\"futures/klineBin1m:BTC_USDT\"]},\"error\":\"group [futures/klineBin1m:BTC_USDT] not exist\"}\n",
      "\n",
      "{\"action\":\"subscribe\",\"group\":\"futures/klineBin1m:BTC_USDT\",\"success\":false,\"request\":{\"action\":\"subscribe\",\"args\":[\"futures/klineBin1m:BTC_USDT\"]},\"error\":\"group [futures/klineBin1m:BTC_USDT] not exist\"}\n",
      "\n",
      "{\"action\":\"subscribe\",\"group\":\"futures/klineBin1m:BTC_USDT\",\"success\":false,\"request\":{\"action\":\"subscribe\",\"args\":[\"futures/klineBin1m:BTC_USDT\"]},\"error\":\"group [futures/klineBin1m:BTC_USDT] not exist\"}\n",
      "\n",
      "{\"action\":\"subscribe\",\"group\":\"futures/klineBin1m:BTC_USDT\",\"success\":false,\"request\":{\"action\":\"subscribe\",\"args\":[\"futures/klineBin1m:BTC_USDT\"]},\"error\":\"group [futures/klineBin1m:BTC_USDT] not exist\"}\n",
      "\n",
      "{\"action\":\"subscribe\",\"group\":\"futures/klineBin1m:BTC_USDT\",\"success\":false,\"request\":{\"action\":\"subscribe\",\"args\":[\"futures/klineBin1m:BTC_USDT\"]},\"error\":\"group [futures/klineBin1m:BTC_USDT] not exist\"}\n",
      "\n",
      "{\"action\":\"subscribe\",\"group\":\"futures/klineBin1m:BTC_USDT\",\"success\":false,\"request\":{\"action\":\"subscribe\",\"args\":[\"futures/klineBin1m:BTC_USDT\"]},\"error\":\"group [futures/klineBin1m:BTC_USDT] not exist\"}\n",
      "\n"
     ]
    },
    {
     "ename": "CancelledError",
     "evalue": "",
     "output_type": "error",
     "traceback": [
      "\u001b[1;31m---------------------------------------------------------------------------\u001b[0m",
      "\u001b[1;31mCancelledError\u001b[0m                            Traceback (most recent call last)",
      "\u001b[1;32mc:\\Users\\rusla\\Documents\\GitHub\\pybitmart\\demos.ipynb Cell 13\u001b[0m in \u001b[0;36m<cell line: 22>\u001b[1;34m()\u001b[0m\n\u001b[0;32m     <a href='vscode-notebook-cell:/c%3A/Users/rusla/Documents/GitHub/pybitmart/demos.ipynb#X15sZmlsZQ%3D%3D?line=22'>23</a>\u001b[0m     \u001b[39mwhile\u001b[39;00m \u001b[39mTrue\u001b[39;00m:\n\u001b[0;32m     <a href='vscode-notebook-cell:/c%3A/Users/rusla/Documents/GitHub/pybitmart/demos.ipynb#X15sZmlsZQ%3D%3D?line=23'>24</a>\u001b[0m         \u001b[39mawait\u001b[39;00m ws\u001b[39m.\u001b[39msend(json\u001b[39m.\u001b[39mdumps({\n\u001b[0;32m     <a href='vscode-notebook-cell:/c%3A/Users/rusla/Documents/GitHub/pybitmart/demos.ipynb#X15sZmlsZQ%3D%3D?line=24'>25</a>\u001b[0m     \u001b[39m\"\u001b[39m\u001b[39maction\u001b[39m\u001b[39m\"\u001b[39m: \u001b[39m\"\u001b[39m\u001b[39msubscribe\u001b[39m\u001b[39m\"\u001b[39m,\n\u001b[0;32m     <a href='vscode-notebook-cell:/c%3A/Users/rusla/Documents/GitHub/pybitmart/demos.ipynb#X15sZmlsZQ%3D%3D?line=25'>26</a>\u001b[0m     \u001b[39m\"\u001b[39m\u001b[39margs\u001b[39m\u001b[39m\"\u001b[39m: [\u001b[39m\"\u001b[39m\u001b[39mfutures/klineBin1m:BTC_USDT\u001b[39m\u001b[39m\"\u001b[39m]\n\u001b[0;32m     <a href='vscode-notebook-cell:/c%3A/Users/rusla/Documents/GitHub/pybitmart/demos.ipynb#X15sZmlsZQ%3D%3D?line=26'>27</a>\u001b[0m }))\n\u001b[1;32m---> <a href='vscode-notebook-cell:/c%3A/Users/rusla/Documents/GitHub/pybitmart/demos.ipynb#X15sZmlsZQ%3D%3D?line=28'>29</a>\u001b[0m         r \u001b[39m=\u001b[39m \u001b[39mawait\u001b[39;00m ws\u001b[39m.\u001b[39mrecv()\n\u001b[0;32m     <a href='vscode-notebook-cell:/c%3A/Users/rusla/Documents/GitHub/pybitmart/demos.ipynb#X15sZmlsZQ%3D%3D?line=29'>30</a>\u001b[0m         \u001b[39mprint\u001b[39m(r)\n\u001b[0;32m     <a href='vscode-notebook-cell:/c%3A/Users/rusla/Documents/GitHub/pybitmart/demos.ipynb#X15sZmlsZQ%3D%3D?line=30'>31</a>\u001b[0m     \u001b[39m#print(f\"<{r}\")\u001b[39;00m\n\u001b[0;32m     <a href='vscode-notebook-cell:/c%3A/Users/rusla/Documents/GitHub/pybitmart/demos.ipynb#X15sZmlsZQ%3D%3D?line=31'>32</a>\u001b[0m \n\u001b[0;32m     <a href='vscode-notebook-cell:/c%3A/Users/rusla/Documents/GitHub/pybitmart/demos.ipynb#X15sZmlsZQ%3D%3D?line=32'>33</a>\u001b[0m     \u001b[39m#message = msgpack.unpackb(r)\u001b[39;00m\n\u001b[1;32m   (...)\u001b[0m\n\u001b[0;32m     <a href='vscode-notebook-cell:/c%3A/Users/rusla/Documents/GitHub/pybitmart/demos.ipynb#X15sZmlsZQ%3D%3D?line=38'>39</a>\u001b[0m     \u001b[39m#decompressed = zlib.decompress(message, -zlib.MAX_WBITS).decode('UTF-8')\u001b[39;00m\n\u001b[0;32m     <a href='vscode-notebook-cell:/c%3A/Users/rusla/Documents/GitHub/pybitmart/demos.ipynb#X15sZmlsZQ%3D%3D?line=39'>40</a>\u001b[0m     \u001b[39m#print(decompressed)\u001b[39;00m\n",
      "File \u001b[1;32mc:\\Program Files\\Python310\\lib\\site-packages\\websockets\\legacy\\protocol.py:536\u001b[0m, in \u001b[0;36mWebSocketCommonProtocol.recv\u001b[1;34m(self)\u001b[0m\n\u001b[0;32m    532\u001b[0m \u001b[39mself\u001b[39m\u001b[39m.\u001b[39m_pop_message_waiter \u001b[39m=\u001b[39m pop_message_waiter\n\u001b[0;32m    533\u001b[0m \u001b[39mtry\u001b[39;00m:\n\u001b[0;32m    534\u001b[0m     \u001b[39m# If asyncio.wait() is canceled, it doesn't cancel\u001b[39;00m\n\u001b[0;32m    535\u001b[0m     \u001b[39m# pop_message_waiter and self.transfer_data_task.\u001b[39;00m\n\u001b[1;32m--> 536\u001b[0m     \u001b[39mawait\u001b[39;00m asyncio\u001b[39m.\u001b[39mwait(\n\u001b[0;32m    537\u001b[0m         [pop_message_waiter, \u001b[39mself\u001b[39m\u001b[39m.\u001b[39mtransfer_data_task],\n\u001b[0;32m    538\u001b[0m         return_when\u001b[39m=\u001b[39masyncio\u001b[39m.\u001b[39mFIRST_COMPLETED,\n\u001b[0;32m    539\u001b[0m         \u001b[39m*\u001b[39m\u001b[39m*\u001b[39mloop_if_py_lt_38(\u001b[39mself\u001b[39m\u001b[39m.\u001b[39mloop),\n\u001b[0;32m    540\u001b[0m     )\n\u001b[0;32m    541\u001b[0m \u001b[39mfinally\u001b[39;00m:\n\u001b[0;32m    542\u001b[0m     \u001b[39mself\u001b[39m\u001b[39m.\u001b[39m_pop_message_waiter \u001b[39m=\u001b[39m \u001b[39mNone\u001b[39;00m\n",
      "File \u001b[1;32mc:\\Program Files\\Python310\\lib\\asyncio\\tasks.py:384\u001b[0m, in \u001b[0;36mwait\u001b[1;34m(fs, timeout, return_when)\u001b[0m\n\u001b[0;32m    377\u001b[0m     warnings\u001b[39m.\u001b[39mwarn(\u001b[39m\"\u001b[39m\u001b[39mThe explicit passing of coroutine objects to \u001b[39m\u001b[39m\"\u001b[39m\n\u001b[0;32m    378\u001b[0m                   \u001b[39m\"\u001b[39m\u001b[39masyncio.wait() is deprecated since Python 3.8, and \u001b[39m\u001b[39m\"\u001b[39m\n\u001b[0;32m    379\u001b[0m                   \u001b[39m\"\u001b[39m\u001b[39mscheduled for removal in Python 3.11.\u001b[39m\u001b[39m\"\u001b[39m,\n\u001b[0;32m    380\u001b[0m                   \u001b[39mDeprecationWarning\u001b[39;00m, stacklevel\u001b[39m=\u001b[39m\u001b[39m2\u001b[39m)\n\u001b[0;32m    382\u001b[0m fs \u001b[39m=\u001b[39m {ensure_future(f, loop\u001b[39m=\u001b[39mloop) \u001b[39mfor\u001b[39;00m f \u001b[39min\u001b[39;00m fs}\n\u001b[1;32m--> 384\u001b[0m \u001b[39mreturn\u001b[39;00m \u001b[39mawait\u001b[39;00m _wait(fs, timeout, return_when, loop)\n",
      "File \u001b[1;32mc:\\Program Files\\Python310\\lib\\asyncio\\tasks.py:491\u001b[0m, in \u001b[0;36m_wait\u001b[1;34m(fs, timeout, return_when, loop)\u001b[0m\n\u001b[0;32m    488\u001b[0m     f\u001b[39m.\u001b[39madd_done_callback(_on_completion)\n\u001b[0;32m    490\u001b[0m \u001b[39mtry\u001b[39;00m:\n\u001b[1;32m--> 491\u001b[0m     \u001b[39mawait\u001b[39;00m waiter\n\u001b[0;32m    492\u001b[0m \u001b[39mfinally\u001b[39;00m:\n\u001b[0;32m    493\u001b[0m     \u001b[39mif\u001b[39;00m timeout_handle \u001b[39mis\u001b[39;00m \u001b[39mnot\u001b[39;00m \u001b[39mNone\u001b[39;00m:\n",
      "\u001b[1;31mCancelledError\u001b[0m: "
     ]
    }
   ],
   "source": [
    "import json\n",
    "from websocket import create_connection\n",
    "import zlib\n",
    "from datetime import datetime\n",
    "import msgpack\n",
    "import websockets, asyncio\n",
    "\n",
    "\"\"\" ws = create_connection(\"wss://openapi-ws.bitmart.com/api?protocol=1.1\")\n",
    "ws.send(json.dumps({\n",
    "    \"action\": \"subscribe\",\n",
    "    \"args\": [\"futures/klineBin1m:BTCUSDT\"]\n",
    "}))\n",
    "params = {\n",
    "            \"action\": \"subscribe\",\n",
    "            \"args\": [\"futures/klineBin1m:BTCUSDT\"]\n",
    "}\n",
    "\n",
    "extra_headers = {\n",
    "            \"Content-Type\": \"application/msgpack\",\n",
    "            \"User-Agent\": \"Bitmart/\",\n",
    "        } \"\"\"\n",
    "async with websockets.connect( \"wss://openapi-ws.bitmart.com/api?protocol=1.1\") as ws:\n",
    "    while True:\n",
    "        await ws.send(json.dumps({\n",
    "    \"action\": \"subscribe\",\n",
    "    \"args\": [\"futures/klineBin1m:BTC_USDT\"]\n",
    "}))\n",
    "    \n",
    "        r = await ws.recv()\n",
    "        print(r)\n",
    "    #print(f\"<{r}\")\n",
    "\n",
    "    #message = msgpack.unpackb(r)\n",
    "    #print(json.loads(r))\n",
    "    #for item in json.loads(message)['data']:\n",
    "    #    print(datetime.fromtimestamp(item['candle'][0]))\n",
    "\n",
    "    #compressed = zlib.compress(message)\n",
    "    #decompressed = zlib.decompress(message, -zlib.MAX_WBITS).decode('UTF-8')\n",
    "    #print(decompressed)\n",
    "\n",
    "    await ws.close()"
   ]
  },
  {
   "cell_type": "markdown",
   "metadata": {},
   "source": [
    "{\"data\":[{\"candle\":[1670633886,\"17152.76\",\"17152.76\",\"17152.25\",\"17152.25\",\"2.66\"],\"symbol\":\"BTC_USDT\"}],\"table\":\"spot/kline1m\"}\n",
    "{\"data\":[{\"candle\":[1670633940,\"17152.25\",\"17152.25\",\"17152.25\",\"17152.25\",\"0.00\"],\"symbol\":\"BTC_USDT\"}],\"table\":\"spot/kline1m\"}\n",
    "{\"data\":[{\"candle\":[1670633966,\"17152.25\",\"17152.44\",\"17152.25\",\"17152.44\",\"0.00\"],\"symbol\":\"BTC_USDT\"}],\"table\":\"spot/kline1m\"}\n",
    "\n",
    "\n",
    "--------------\n",
    "{\"action\":\"subscribe\",\"group\":\"futures/klineBin1m:BTCUSDT\",\"success\":true,\"request\":{\"action\":\"subscribe\",\"args\":[\"futures/klineBin1m:BTCUSDT\"]}}\n",
    "\n",
    "{\"group\":\"futures/klineBin1m:BTCUSDT\",\"data\":{\"symbol\":\"BTCUSDT\",\"items\":[{\"o\":\"17145.3\",\"h\":\"17145.4\",\"l\":\"17145.1\",\"c\":\"17145.3\",\"v\":\"4384\"}]}}"
   ]
  },
  {
   "cell_type": "code",
   "execution_count": 2,
   "metadata": {},
   "outputs": [
    {
     "ename": "TimeoutError",
     "evalue": "[WinError 10060] A connection attempt failed because the connected party did not properly respond after a period of time, or established connection failed because connected host has failed to respond",
     "output_type": "error",
     "traceback": [
      "\u001b[1;31m---------------------------------------------------------------------------\u001b[0m",
      "\u001b[1;31mTimeoutError\u001b[0m                              Traceback (most recent call last)",
      "\u001b[1;32mc:\\Users\\rusla\\Documents\\GitHub\\pybitmart\\demos.ipynb Cell 15\u001b[0m in \u001b[0;36m<cell line: 7>\u001b[1;34m()\u001b[0m\n\u001b[0;32m      <a href='vscode-notebook-cell:/c%3A/Users/rusla/Documents/GitHub/pybitmart/demos.ipynb#X20sZmlsZQ%3D%3D?line=3'>4</a>\u001b[0m \u001b[39mfrom\u001b[39;00m \u001b[39mdatetime\u001b[39;00m \u001b[39mimport\u001b[39;00m datetime\n\u001b[0;32m      <a href='vscode-notebook-cell:/c%3A/Users/rusla/Documents/GitHub/pybitmart/demos.ipynb#X20sZmlsZQ%3D%3D?line=4'>5</a>\u001b[0m \u001b[39mimport\u001b[39;00m \u001b[39mmsgpack\u001b[39;00m\n\u001b[1;32m----> <a href='vscode-notebook-cell:/c%3A/Users/rusla/Documents/GitHub/pybitmart/demos.ipynb#X20sZmlsZQ%3D%3D?line=6'>7</a>\u001b[0m ws \u001b[39m=\u001b[39m create_connection(\u001b[39m\"\u001b[39;49m\u001b[39mwss://ws-manager-compress.bitmart.com/api?protocol=1.1\u001b[39;49m\u001b[39m\"\u001b[39;49m)\n\u001b[0;32m      <a href='vscode-notebook-cell:/c%3A/Users/rusla/Documents/GitHub/pybitmart/demos.ipynb#X20sZmlsZQ%3D%3D?line=7'>8</a>\u001b[0m ws\u001b[39m.\u001b[39msend(json\u001b[39m.\u001b[39mdumps({\n\u001b[0;32m      <a href='vscode-notebook-cell:/c%3A/Users/rusla/Documents/GitHub/pybitmart/demos.ipynb#X20sZmlsZQ%3D%3D?line=8'>9</a>\u001b[0m     \u001b[39m\"\u001b[39m\u001b[39maction\u001b[39m\u001b[39m\"\u001b[39m: \u001b[39m\"\u001b[39m\u001b[39msubscribe\u001b[39m\u001b[39m\"\u001b[39m,\n\u001b[0;32m     <a href='vscode-notebook-cell:/c%3A/Users/rusla/Documents/GitHub/pybitmart/demos.ipynb#X20sZmlsZQ%3D%3D?line=9'>10</a>\u001b[0m     \u001b[39m\"\u001b[39m\u001b[39margs\u001b[39m\u001b[39m\"\u001b[39m: [\u001b[39m\"\u001b[39m\u001b[39mspot/kline1m:BTC_USDT\u001b[39m\u001b[39m\"\u001b[39m]\n\u001b[0;32m     <a href='vscode-notebook-cell:/c%3A/Users/rusla/Documents/GitHub/pybitmart/demos.ipynb#X20sZmlsZQ%3D%3D?line=10'>11</a>\u001b[0m }))\n\u001b[0;32m     <a href='vscode-notebook-cell:/c%3A/Users/rusla/Documents/GitHub/pybitmart/demos.ipynb#X20sZmlsZQ%3D%3D?line=12'>13</a>\u001b[0m \u001b[39mwhile\u001b[39;00m \u001b[39mTrue\u001b[39;00m:\n",
      "File \u001b[1;32mc:\\Program Files\\Python310\\lib\\site-packages\\websocket\\_core.py:608\u001b[0m, in \u001b[0;36mcreate_connection\u001b[1;34m(url, timeout, class_, **options)\u001b[0m\n\u001b[0;32m    603\u001b[0m websock \u001b[39m=\u001b[39m class_(sockopt\u001b[39m=\u001b[39msockopt, sslopt\u001b[39m=\u001b[39msslopt,\n\u001b[0;32m    604\u001b[0m                  fire_cont_frame\u001b[39m=\u001b[39mfire_cont_frame,\n\u001b[0;32m    605\u001b[0m                  enable_multithread\u001b[39m=\u001b[39menable_multithread,\n\u001b[0;32m    606\u001b[0m                  skip_utf8_validation\u001b[39m=\u001b[39mskip_utf8_validation, \u001b[39m*\u001b[39m\u001b[39m*\u001b[39moptions)\n\u001b[0;32m    607\u001b[0m websock\u001b[39m.\u001b[39msettimeout(timeout \u001b[39mif\u001b[39;00m timeout \u001b[39mis\u001b[39;00m \u001b[39mnot\u001b[39;00m \u001b[39mNone\u001b[39;00m \u001b[39melse\u001b[39;00m getdefaulttimeout())\n\u001b[1;32m--> 608\u001b[0m websock\u001b[39m.\u001b[39mconnect(url, \u001b[39m*\u001b[39m\u001b[39m*\u001b[39moptions)\n\u001b[0;32m    609\u001b[0m \u001b[39mreturn\u001b[39;00m websock\n",
      "File \u001b[1;32mc:\\Program Files\\Python310\\lib\\site-packages\\websocket\\_core.py:249\u001b[0m, in \u001b[0;36mWebSocket.connect\u001b[1;34m(self, url, **options)\u001b[0m\n\u001b[0;32m    202\u001b[0m \u001b[39m\"\"\"\u001b[39;00m\n\u001b[0;32m    203\u001b[0m \u001b[39mConnect to url. url is websocket url scheme.\u001b[39;00m\n\u001b[0;32m    204\u001b[0m \u001b[39mie. ws://host:port/resource\u001b[39;00m\n\u001b[1;32m   (...)\u001b[0m\n\u001b[0;32m    246\u001b[0m \u001b[39m    Pre-initialized stream socket.\u001b[39;00m\n\u001b[0;32m    247\u001b[0m \u001b[39m\"\"\"\u001b[39;00m\n\u001b[0;32m    248\u001b[0m \u001b[39mself\u001b[39m\u001b[39m.\u001b[39msock_opt\u001b[39m.\u001b[39mtimeout \u001b[39m=\u001b[39m options\u001b[39m.\u001b[39mget(\u001b[39m'\u001b[39m\u001b[39mtimeout\u001b[39m\u001b[39m'\u001b[39m, \u001b[39mself\u001b[39m\u001b[39m.\u001b[39msock_opt\u001b[39m.\u001b[39mtimeout)\n\u001b[1;32m--> 249\u001b[0m \u001b[39mself\u001b[39m\u001b[39m.\u001b[39msock, addrs \u001b[39m=\u001b[39m connect(url, \u001b[39mself\u001b[39;49m\u001b[39m.\u001b[39;49msock_opt, proxy_info(\u001b[39m*\u001b[39;49m\u001b[39m*\u001b[39;49moptions),\n\u001b[0;32m    250\u001b[0m                            options\u001b[39m.\u001b[39;49mpop(\u001b[39m'\u001b[39;49m\u001b[39msocket\u001b[39;49m\u001b[39m'\u001b[39;49m, \u001b[39mNone\u001b[39;49;00m))\n\u001b[0;32m    252\u001b[0m \u001b[39mtry\u001b[39;00m:\n\u001b[0;32m    253\u001b[0m     \u001b[39mself\u001b[39m\u001b[39m.\u001b[39mhandshake_response \u001b[39m=\u001b[39m handshake(\u001b[39mself\u001b[39m\u001b[39m.\u001b[39msock, url, \u001b[39m*\u001b[39maddrs, \u001b[39m*\u001b[39m\u001b[39m*\u001b[39moptions)\n",
      "File \u001b[1;32mc:\\Program Files\\Python310\\lib\\site-packages\\websocket\\_http.py:130\u001b[0m, in \u001b[0;36mconnect\u001b[1;34m(url, options, proxy, socket)\u001b[0m\n\u001b[0;32m    128\u001b[0m sock \u001b[39m=\u001b[39m \u001b[39mNone\u001b[39;00m\n\u001b[0;32m    129\u001b[0m \u001b[39mtry\u001b[39;00m:\n\u001b[1;32m--> 130\u001b[0m     sock \u001b[39m=\u001b[39m _open_socket(addrinfo_list, options\u001b[39m.\u001b[39;49msockopt, options\u001b[39m.\u001b[39;49mtimeout)\n\u001b[0;32m    131\u001b[0m     \u001b[39mif\u001b[39;00m need_tunnel:\n\u001b[0;32m    132\u001b[0m         sock \u001b[39m=\u001b[39m _tunnel(sock, hostname, port_from_url, auth)\n",
      "File \u001b[1;32mc:\\Program Files\\Python310\\lib\\site-packages\\websocket\\_http.py:197\u001b[0m, in \u001b[0;36m_open_socket\u001b[1;34m(addrinfo_list, sockopt, timeout)\u001b[0m\n\u001b[0;32m    195\u001b[0m         \u001b[39mcontinue\u001b[39;00m\n\u001b[0;32m    196\u001b[0m     \u001b[39melse\u001b[39;00m:\n\u001b[1;32m--> 197\u001b[0m         \u001b[39mraise\u001b[39;00m error\n\u001b[0;32m    198\u001b[0m \u001b[39melse\u001b[39;00m:\n\u001b[0;32m    199\u001b[0m     \u001b[39mbreak\u001b[39;00m\n",
      "File \u001b[1;32mc:\\Program Files\\Python310\\lib\\site-packages\\websocket\\_http.py:185\u001b[0m, in \u001b[0;36m_open_socket\u001b[1;34m(addrinfo_list, sockopt, timeout)\u001b[0m\n\u001b[0;32m    183\u001b[0m \u001b[39mwhile\u001b[39;00m \u001b[39mnot\u001b[39;00m err:\n\u001b[0;32m    184\u001b[0m     \u001b[39mtry\u001b[39;00m:\n\u001b[1;32m--> 185\u001b[0m         sock\u001b[39m.\u001b[39;49mconnect(address)\n\u001b[0;32m    186\u001b[0m     \u001b[39mexcept\u001b[39;00m socket\u001b[39m.\u001b[39merror \u001b[39mas\u001b[39;00m error:\n\u001b[0;32m    187\u001b[0m         sock\u001b[39m.\u001b[39mclose()\n",
      "\u001b[1;31mTimeoutError\u001b[0m: [WinError 10060] A connection attempt failed because the connected party did not properly respond after a period of time, or established connection failed because connected host has failed to respond"
     ]
    }
   ],
   "source": [
    "import json\n",
    "from websocket import create_connection\n",
    "import zlib\n",
    "from datetime import datetime\n",
    "import msgpack\n",
    "\n",
    "ws = create_connection(\"wss://ws-manager-compress.bitmart.com/api?protocol=1.1\")\n",
    "ws.send(json.dumps({\n",
    "    \"action\": \"subscribe\",\n",
    "    \"args\": [\"spot/kline1m:BTC_USDT\"]\n",
    "}))\n",
    "\n",
    "while True:\n",
    "    result = ws.recv()\n",
    "    message = msgpack.unpackb(result)\n",
    "    print(json.loads(message))\n",
    "    #for item in json.loads(message)['data']:\n",
    "    #    print(datetime.fromtimestamp(item['candle'][0]))\n",
    "\n",
    "    #compressed = zlib.compress(message)\n",
    "    #decompressed = zlib.decompress(message, -zlib.MAX_WBITS).decode('UTF-8')\n",
    "    #print(decompressed)\n",
    "\n",
    "ws.close()"
   ]
  },
  {
   "cell_type": "code",
   "execution_count": 4,
   "metadata": {},
   "outputs": [
    {
     "data": {
      "text/plain": [
       "1670676913"
      ]
     },
     "execution_count": 4,
     "metadata": {},
     "output_type": "execute_result"
    }
   ],
   "source": [
    "from datetime import datetime\n",
    "int(datetime.timestamp(datetime.now()))"
   ]
  }
 ],
 "metadata": {
  "kernelspec": {
   "display_name": "Python 3.10.4 64-bit",
   "language": "python",
   "name": "python3"
  },
  "language_info": {
   "codemirror_mode": {
    "name": "ipython",
    "version": 3
   },
   "file_extension": ".py",
   "mimetype": "text/x-python",
   "name": "python",
   "nbconvert_exporter": "python",
   "pygments_lexer": "ipython3",
   "version": "3.10.4"
  },
  "orig_nbformat": 4,
  "vscode": {
   "interpreter": {
    "hash": "26de051ba29f2982a8de78e945f0abaf191376122a1563185a90213a26c5da77"
   }
  }
 },
 "nbformat": 4,
 "nbformat_minor": 2
}
