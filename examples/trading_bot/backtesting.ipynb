{
 "cells": [
  {
   "cell_type": "code",
   "execution_count": null,
   "metadata": {},
   "outputs": [],
   "source": [
    "%matplotlib inline\n",
    "\n",
    "from hftcryptoapi import BitmartClient\n",
    "from hftcryptoapi.bitmart.data import *\n",
    "from datetime import datetime, timedelta\n",
    "import pandas as pd\n",
    "from typing import List, Dict, Any\n",
    "\n",
    "client = BitmartClient()\n",
    "symbol = \"BTCUSDT\"\n",
    "to_time = datetime.now()\n",
    "from_time = to_time - timedelta(days=30)\n",
    "klines = client.get_symbol_kline(symbol=symbol, market=Market.FUTURES, tf=TimeFrame.tf_1h, from_time=from_time, to_time=to_time)\n",
    "\n",
    "\n",
    "def to_dataframe(kl: List[Kline]) -> pd.DataFrame:\n",
    "    data = [dict(timestamp=k.date_time, open=k.open, high=k.high, low=k.low, close=k.close) for k in kl]\n",
    "\n",
    "    df = pd.DataFrame(data=data, columns=[\"timestamp\", \"open\", \"high\", \"low\", \"close\"])\n",
    "    df.set_index(\"timestamp\", inplace=True)\n",
    "    return df\n",
    "\n",
    "df = to_dataframe(klines)\n",
    "df"
   ]
  },
  {
   "cell_type": "code",
   "execution_count": null,
   "metadata": {},
   "outputs": [],
   "source": [
    "from ta.momentum import rsi\n",
    "from ta.volatility import BollingerBands\n",
    "\n",
    "BB_WINDOW = 20\n",
    "RSI_WINDOW = 14\n",
    "\n",
    "def add_indicators(df: pd.DataFrame, rsi_window: int = RSI_WINDOW, bb_window: int = BB_WINDOW):\n",
    "    df[\"rsi\"] = rsi(df.close, window=rsi_window)\n",
    "    bb = BollingerBands(df.close, window=bb_window)\n",
    "    df[\"bb_upper\"] = bb.bollinger_hband()\n",
    "    df['bb_lower'] = bb.bollinger_lband()\n",
    "    df.dropna(inplace=True)\n",
    "\n",
    "    return df\n",
    "\n",
    "add_indicators(df)\n",
    "df\n",
    "df[[\"close\", \"bb_upper\", \"bb_lower\"]].plot()"
   ]
  },
  {
   "cell_type": "code",
   "execution_count": null,
   "metadata": {},
   "outputs": [],
   "source": [
    "import matplotlib.pyplot as plt\n",
    "\n",
    "fig, axs = plt.subplots(2, 1, sharex=\"row\", gridspec_kw={\"height_ratios\": [5, 1]})\n",
    "\n",
    "df[[\"close\", \"bb_upper\", \"bb_lower\"]].plot(ax=axs[0])\n",
    "df.rsi.plot(ax=axs[1], label=\"rsi\")\n",
    "axs[1].legend()\n",
    "axs[0].get_xaxis().set_visible(False)\n",
    "\n",
    "def should_buy(r: pd.Series) -> bool:\n",
    "    return r.rsi < 30 and r.close < r.bb_lower\n",
    "\n",
    "\n",
    "def should_sell(r: pd.Series) -> bool:\n",
    "    return r.rsi > 70 and r.close > r.bb_upper\n",
    "\n",
    "df['buy_signal'] = df.apply(should_buy, axis=1)\n",
    "df['sell_signal'] = df.apply(should_sell, axis=1)\n",
    "\n",
    "\n",
    "df_buy = df[df.buy_signal]\n",
    "df_sell = df[df.sell_signal]\n",
    "\n",
    "axs[0].scatter(df_buy.index, df_buy.close, marker=\"^\", color=\"green\")\n",
    "axs[0].scatter(df_sell.index, df_sell.close, marker=\"v\", color=\"red\")\n",
    "\n",
    "plt.show()\n",
    "\n",
    "\n"
   ]
  },
  {
   "cell_type": "code",
   "execution_count": null,
   "metadata": {},
   "outputs": [],
   "source": [
    "trades: List[Dict[str, Any]] = []\n",
    "entry_side = None\n",
    "entry_price = None\n",
    "\n",
    "def open(side: Position, price: float):\n",
    "    global entry_side, entry_price\n",
    "    entry_side = side\n",
    "    entry_price = price\n",
    "\n",
    "def close(price: float, close_time: datetime):\n",
    "    global entry_side, entry_price\n",
    "    trades.append(dict(open_price=entry_price, close_price=price, side=entry_side, close_time=close_time))\n",
    "    entry_side = None\n",
    "    entry_price = None\n",
    "\n",
    "\n",
    "for i, row in df[df.buy_signal | df.sell_signal].iterrows():\n",
    "    if row.buy_signal and entry_side != Position.LONG:\n",
    "        if entry_side is None:\n",
    "            open(Position.LONG, row.close)\n",
    "        else:\n",
    "            close(row.close, i)\n",
    "\n",
    "    if row.sell_signal and entry_side != Position.SHORT:\n",
    "        if entry_side is None:\n",
    "            open(Position.SHORT, row.close)\n",
    "        else:\n",
    "            close(row.close, i)\n",
    "\n",
    "trades_df = pd.DataFrame(trades)\n",
    "trades_df.set_index(\"close_time\", inplace=True)\n",
    "\n",
    "trades_df"
   ]
  },
  {
   "cell_type": "code",
   "execution_count": null,
   "metadata": {},
   "outputs": [],
   "source": [
    "def get_profit(side: Position, open_price: float, close_price: float):\n",
    "    if side == Position.SHORT:\n",
    "        return (open_price - close_price) / open_price * 100\n",
    "    else:\n",
    "        return (close_price - open_price) / close_price * 100\n",
    "\n",
    "trades_df[\"profit\"] = trades_df.apply(lambda r: get_profit(r.side, r.open_price, r.close_price), axis=1)\n",
    "\n",
    "trades_df"
   ]
  },
  {
   "cell_type": "code",
   "execution_count": null,
   "metadata": {},
   "outputs": [],
   "source": [
    "trades_df[\"profit\"].cumsum().plot()"
   ]
  },
  {
   "cell_type": "code",
   "execution_count": null,
   "metadata": {},
   "outputs": [],
   "source": [
    "print(\"Backtesting summary:\")\n",
    "print(f\"Trades: %d\" % len(trades_df))\n",
    "print(\"Profit Sum: %.3f%%\" % trades_df.profit.sum())\n",
    "print(\"Max Trade profit.: %.3f%%\" % trades_df.profit.max())\n",
    "print(\"Min Trade profit.: %.3f%%\" % trades_df.profit.min())\n",
    "print(f\"Profit Per Trade(Avg.):  %.3f%%\" % trades_df.profit.mean())"
   ]
  }
 ],
 "metadata": {
  "kernelspec": {
   "display_name": "venv",
   "language": "python",
   "name": "python3"
  },
  "language_info": {
   "codemirror_mode": {
    "name": "ipython",
    "version": 3
   },
   "file_extension": ".py",
   "mimetype": "text/x-python",
   "name": "python",
   "nbconvert_exporter": "python",
   "pygments_lexer": "ipython3",
   "version": "3.9.6"
  },
  "orig_nbformat": 4,
  "vscode": {
   "interpreter": {
    "hash": "e684bff4c668e42c10b736d459ce9758b285075042060756d44f386a73347497"
   }
  }
 },
 "nbformat": 4,
 "nbformat_minor": 2
}
